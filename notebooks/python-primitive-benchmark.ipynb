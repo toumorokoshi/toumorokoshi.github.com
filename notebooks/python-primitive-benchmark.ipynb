{
 "cells": [
  {
   "cell_type": "code",
   "execution_count": 6,
   "metadata": {},
   "outputs": [
    {
     "name": "stdout",
     "output_type": "stream",
     "text": [
      "         4000004 function calls in 3.039 seconds\n",
      "\n",
      "   Ordered by: cumulative time\n",
      "\n",
      "   ncalls  tottime  percall  cumtime  percall filename:lineno(function)\n",
      "        1    0.000    0.000    3.039    3.039 {built-in method builtins.exec}\n",
      "        1    0.000    0.000    3.039    3.039 <string>:1(<module>)\n",
      "        1    2.157    2.157    3.039    3.039 <ipython-input-6-86a93381c75f>:18(benchmark)\n",
      "  1000000    0.224    0.000    0.448    0.000 <string>:12(__new__)\n",
      "  1000000    0.233    0.000    0.233    0.000 <attrs generated init ae6a878c4597aa81ca397617a7950e78fe5f4a91>:1(__init__)\n",
      "  1000000    0.223    0.000    0.223    0.000 {built-in method __new__ of type object at 0x88b740}\n",
      "  1000000    0.201    0.000    0.201    0.000 <ipython-input-6-86a93381c75f>:14(__init__)\n",
      "        1    0.000    0.000    0.000    0.000 {method 'disable' of '_lsprof.Profiler' objects}\n",
      "\n",
      "\n"
     ]
    }
   ],
   "source": [
    "import attr\n",
    "from collections import namedtuple \n",
    "\n",
    "TRIALS = 1000000\n",
    "\n",
    "@attr.s\n",
    "class PointAttr:\n",
    "    x = attr.ib()\n",
    "    y = attr.ib()\n",
    "    \n",
    "PointNamedTuple = namedtuple(\"PointNamedTuple\", [\"x\", \"y\"])\n",
    "\n",
    "class PointClass:\n",
    "    def __init__(self, x, y):\n",
    "        self.x = x\n",
    "        self.y = y\n",
    "        \n",
    "def benchmark():\n",
    "    for i in range(TRIALS):\n",
    "        attr_instance = PointAttr(x=1, y=2)\n",
    "        assert attr_instance.x == 1\n",
    "        class_instance = PointClass(x=1, y=2)\n",
    "        assert class_instance.x == 1\n",
    "        namedtuple_instance = PointNamedTuple(x=1, y=2)\n",
    "        assert namedtuple_instance.x == 1\n",
    "        dict_instance = {\"x\": 1, \"y\": 2}\n",
    "        assert dict_instance[\"x\"] == 1\n",
    "        \n",
    "import cProfile\n",
    "cProfile.runctx(\"benchmark()\", globals(), locals(), sort=\"cumulative\")"
   ]
  }
 ],
 "metadata": {
  "kernelspec": {
   "display_name": "Python 3",
   "language": "python",
   "name": "python3"
  },
  "language_info": {
   "codemirror_mode": {
    "name": "ipython",
    "version": 3
   },
   "file_extension": ".py",
   "mimetype": "text/x-python",
   "name": "python",
   "nbconvert_exporter": "python",
   "pygments_lexer": "ipython3",
   "version": "3.6.1"
  }
 },
 "nbformat": 4,
 "nbformat_minor": 2
}
